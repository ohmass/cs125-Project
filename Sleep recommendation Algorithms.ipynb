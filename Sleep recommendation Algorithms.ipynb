{
 "cells": [
  {
   "attachments": {},
   "cell_type": "markdown",
   "metadata": {},
   "source": [
    "## Sleep Recommendation Algorithm\n",
    "\n",
    "**The algorithm will consist of three types of user preference**\n",
    "1. The algorithm can help the user to determine what is the best bedtime, wake up time or duration based on their \"sleep pattern\" to improve their sleep quality(not directly associate it)\n",
    "2. The algorithm can provide recommend range of bedtimes to the user for the given wake time\n",
    "3. The algorithm give insights on their preferrable bedtime and wakeuptime and give an opinion on how they could change it"
   ]
  },
  {
   "attachments": {},
   "cell_type": "markdown",
   "metadata": {},
   "source": [
    "### Import Relevant Modules"
   ]
  },
  {
   "cell_type": "code",
   "execution_count": 1,
   "metadata": {},
   "outputs": [],
   "source": [
    "import pandas as pd\n",
    "import numpy as np\n",
    "from datetime import datetime, time, timedelta\n",
    "from sklearn.ensemble import RandomForestRegressor"
   ]
  },
  {
   "attachments": {},
   "cell_type": "markdown",
   "metadata": {},
   "source": [
    "### Preprocess data\n",
    "\n",
    "**If you want to add more fields you add it in this part or else you dont need to run this section of the code. It had already exported the file**"
   ]
  },
  {
   "cell_type": "code",
   "execution_count": 102,
   "metadata": {},
   "outputs": [],
   "source": [
    "# Load Data from csv file\n",
    "sleep_data = pd.read_csv('data/Sleep.csv')\n",
    "servings1 = pd.read_csv('data/servings 1.csv', engine='python')\n",
    "servings2 = pd.read_csv('data/servings 2.csv', engine='python')\n",
    "servings3 = pd.read_csv('data/servings 3.csv', engine='python')\n",
    "\n",
    "# Extract relevant Data from csv files\n",
    "sleep_data = sleep_data[['date', 'Sleep Score', 'Total Bedtime', 'Bedtime Start', 'Bedtime End','Steps', 'HRV Balance Score']]\n",
    "servings1 =  servings1[['Day', 'Alcohol (g)', 'Caffeine (mg)', 'Water (g)']]\n",
    "servings2 =  servings2[['Day', 'Alcohol (g)', 'Caffeine (mg)', 'Water (g)']]\n",
    "servings3 =  servings3[['Day', 'Alcohol (g)', 'Caffeine (mg)', 'Water (g)']]\n",
    "\n",
    "#Combine Datas\n",
    "servings1 = servings1.groupby('Day', as_index=False).sum()\n",
    "servings2 = servings2.groupby('Day', as_index=False).sum()\n",
    "servings3 = servings3.groupby('Day', as_index=False).sum()\n",
    "\n",
    "# Add all servings files together and remove and day that are empty\n",
    "servings_data = pd.concat([servings1, servings2, servings3])\n",
    "sleep_data = sleep_data.dropna()\n",
    "servings_data = servings_data.dropna()\n",
    "\n",
    "# Rename the columns to better merge and visibility\n",
    "sleep_data.rename(columns={'date': 'Date'}, inplace=True)\n",
    "servings_data.rename(columns={'Day': 'Date'}, inplace=True)\n",
    "\n",
    "sleep_data.rename(columns={'HRV Balance Score': 'Stress'}, inplace=True)\n",
    "sleep_data.rename(columns={'Total Bedtime': 'Duration'}, inplace=True)\n",
    "sleep_data.rename(columns={'Bedtime Start': 'Bedtime'}, inplace=True)\n",
    "sleep_data.rename(columns={'Bedtime End': 'Waketime'}, inplace=True)\n",
    "servings_data.rename(columns={'Alcohol (g)': 'Alcohol'}, inplace=True)\n",
    "servings_data.rename(columns={'Caffeine (mg)': 'Caffeine'}, inplace=True)\n",
    "servings_data.rename(columns={'Water (g)': 'Water'}, inplace=True)\n",
    "\n",
    "# Convert Date to Date time(type) to be consistent\n",
    "sleep_data['Date'] = pd.to_datetime(sleep_data['Date']).dt.date\n",
    "servings_data['Date'] = pd.to_datetime(servings_data['Date']).dt.date\n",
    "\n",
    "sleep_data['Bedtime'] = pd.to_datetime(sleep_data['Bedtime'], utc=True)\n",
    "sleep_data['Waketime'] = pd.to_datetime(sleep_data['Waketime'], utc=True)\n",
    "\n",
    "# Merge the sleep data and servings data\n",
    "user_data = pd.merge(sleep_data, servings_data, on='Date')\n",
    "\n",
    "# Clean unecessary Data\n",
    "user_data[\"Stress\"] = pd.to_numeric(user_data[\"Stress\"], errors='coerce')\n",
    "user_data = user_data.dropna()\n",
    "user_data = user_data.reset_index(drop=True)\n",
    "\n",
    "\n",
    "# Export Data to csv\n",
    "user_data.to_csv(\"User Data.csv\", index=False)\n"
   ]
  },
  {
   "attachments": {},
   "cell_type": "markdown",
   "metadata": {},
   "source": [
    "**Run the following snippet to get data**\n",
    "\n",
    "only run one time"
   ]
  },
  {
   "cell_type": "code",
   "execution_count": 3,
   "metadata": {},
   "outputs": [],
   "source": [
    "# Load User Data from csv\n",
    "user_data = pd.read_csv('User Data.csv')\n",
    "\n",
    "# Get user local time zone info\n",
    "timezone = datetime.now().astimezone().tzinfo\n",
    "\n",
    "# Convert time to local time zone for accuracy\n",
    "user_data['Bedtime'] = pd.to_datetime(user_data['Bedtime']).dt.tz_convert(timezone).dt.round(\"min\").dt.time\n",
    "user_data['Waketime'] = pd.to_datetime(user_data['Waketime']).dt.tz_convert(timezone).dt.round(\"min\").dt.time\n",
    "\n",
    "# Convert Time to minutes\n",
    "user_data['Bedtime'] = pd.to_timedelta(user_data['Bedtime'].astype(str)).dt.total_seconds() \n",
    "user_data['Waketime'] = pd.to_timedelta(user_data['Waketime'].astype(str)).dt.total_seconds() "
   ]
  },
  {
   "attachments": {},
   "cell_type": "markdown",
   "metadata": {},
   "source": [
    "**Algorithm #1**"
   ]
  },
  {
   "attachments": {},
   "cell_type": "markdown",
   "metadata": {},
   "source": [
    "The first algorithm that it can work interchangeable for bedtime and waketime. It will recommend the user based on their prefer waketime and sleep quality(or max) the algorithm can recommend the user the best bedtime"
   ]
  },
  {
   "cell_type": "code",
   "execution_count": 67,
   "metadata": {},
   "outputs": [],
   "source": [
    "# Load historical data\n",
    "X = user_data[['Sleep Score', 'Duration', 'Waketime', 'Steps','Stress', 'Alcohol', 'Caffeine', 'Water']]\n",
    "y = user_data['Bedtime']"
   ]
  },
  {
   "cell_type": "code",
   "execution_count": null,
   "metadata": {},
   "outputs": [],
   "source": [
    "# Train the model\n",
    "bedtime_model = RandomForestRegressor()\n",
    "bedtime_model.fit(X.values,y)\n",
    "\n",
    "# Calculate Ideal Bedtime\n",
    "def calculate_ideal_bedtime(ideal_duration, ideal_sq, ideal_wakeup_time, steps, stress, alcohol, caffeine, water):\n",
    "\n",
    "    # Change the unit to seconds to match the data unit\n",
    "    ideal_duration = ideal_duration * 3600\n",
    "    ideal_wakeup_time = timedelta(hours=ideal_wakeup_time.hour, minutes=ideal_wakeup_time.minute, seconds=ideal_wakeup_time.second).total_seconds()\n",
    "\n",
    "    # Bedtime prediction pattern\n",
    "    ideal_bedtime = bedtime_model.predict([[ideal_sq, ideal_duration, ideal_wakeup_time, steps, stress, alcohol, caffeine, water]])[0]\n",
    "\n",
    "    # Convert to time\n",
    "    ideal_bedtime = timedelta(seconds=ideal_bedtime)\n",
    "\n",
    "    midnight = datetime.combine(datetime.today(), time.min)\n",
    "\n",
    "    ideal_bedtime = midnight + ideal_bedtime\n",
    "\n",
    "    return ideal_bedtime.time().replace(second=0, microsecond=0)\n",
    "\n",
    "# User sample input\n",
    "ideal_duration = 8 #hour\n",
    "ideal_sq = 90\n",
    "ideal_wakeup_time = time(7, 00, 0)\n",
    "steps = 10000\n",
    "stress = 80\n",
    "alcohol = 0\n",
    "caffeine = 200.0\n",
    "water = 2000\n",
    "\n",
    "ideal_bedtime = calculate_ideal_bedtime(ideal_duration, ideal_sq, ideal_wakeup_time, steps, stress, alcohol, caffeine, water)\n"
   ]
  },
  {
   "cell_type": "code",
   "execution_count": 79,
   "metadata": {},
   "outputs": [
    {
     "name": "stdout",
     "output_type": "stream",
     "text": [
      "Your ideal bedtime is:  22:51:00\n"
     ]
    }
   ],
   "source": [
    "print(\"Your ideal bedtime is: \", ideal_bedtime)"
   ]
  },
  {
   "attachments": {},
   "cell_type": "markdown",
   "metadata": {},
   "source": [
    "**Algorithm #2** "
   ]
  },
  {
   "attachments": {},
   "cell_type": "markdown",
   "metadata": {},
   "source": [
    "The algorithm is giving the user a list of best bedtime based on what their range of prefered bed time is based on sleep quality"
   ]
  },
  {
   "cell_type": "code",
   "execution_count": 4,
   "metadata": {},
   "outputs": [],
   "source": [
    "# Load historical data\n",
    "X_2 = user_data[['Bedtime', 'Duration', 'Waketime', 'Steps','Stress', 'Alcohol', 'Caffeine', 'Water']]\n",
    "y_2 = user_data['Sleep Score']"
   ]
  },
  {
   "cell_type": "code",
   "execution_count": 13,
   "metadata": {},
   "outputs": [],
   "source": [
    "# Train the model\n",
    "bedtime_model = RandomForestRegressor()\n",
    "bedtime_model.fit(X_2.values,y_2)\n",
    "\n",
    "# Calculate Ideal Bedtime\n",
    "def calculate_ideal_bedtime_list(ideal_duration, ideal_wakeup_time, ideal_bedtime_start, ideal_bedtime_end, steps, stress, alcohol, caffeine, water):\n",
    "\n",
    "    # Change the unit to seconds to match the data unit\n",
    "    ideal_duration = ideal_duration * 3600\n",
    "    ideal_wakeup_time = timedelta(hours=ideal_wakeup_time.hour, minutes=ideal_wakeup_time.minute, seconds=ideal_wakeup_time.second).total_seconds()\n",
    "\n",
    "    ideal_bedtime_start = timedelta(hours=ideal_bedtime_start.hour, minutes=ideal_bedtime_start.minute, seconds=ideal_bedtime_start.second).total_seconds()\n",
    "    ideal_bedtime_end = timedelta(hours=ideal_bedtime_end.hour, minutes=ideal_bedtime_end.minute, seconds=ideal_bedtime_end.second).total_seconds()\n",
    "    \n",
    "    # Store all the bed time\n",
    "    ideal_bedtime_dict = {}\n",
    "    bedtime = ideal_bedtime_start\n",
    "\n",
    "    midnight = datetime.combine(datetime.today(), time.min)\n",
    "\n",
    "    interval = 15 # minutes\n",
    "\n",
    "    # Calculate the best bedtime and sort in dict\n",
    "    while (bedtime <= ideal_bedtime_end):\n",
    "        \n",
    "        sleep_quality = bedtime_model.predict([[bedtime, ideal_duration, ideal_wakeup_time, steps, stress, alcohol, caffeine, water]])[0]\n",
    "\n",
    "        # Convert to time\n",
    "        ideal_bedtime = timedelta(seconds=bedtime)\n",
    "        ideal_bedtime = midnight + ideal_bedtime\n",
    "        ideal_bedtime = ideal_bedtime.time().replace(second=0, microsecond=0)\n",
    "\n",
    "        # Store in dictionary\n",
    "        ideal_bedtime_dict[ideal_bedtime] = sleep_quality\n",
    "        \n",
    "        # Increase Interval\n",
    "        bedtime += interval * 60\n",
    "\n",
    "    return ideal_bedtime_dict\n",
    "\n",
    "# User sample input\n",
    "ideal_duration = 8 #hour\n",
    "ideal_sq = 90\n",
    "ideal_wakeup_time = time(7, 00, 0)\n",
    "steps = 10000\n",
    "stress = 80\n",
    "alcohol = 0\n",
    "caffeine = 200.0\n",
    "water = 2000\n",
    "ideal_bedtime_start = time(20, 00, 0)\n",
    "ideal_bedtime_end = time(23, 00, 0)\n",
    "\n",
    "ideal_bedtime_dict = calculate_ideal_bedtime_list(ideal_duration, ideal_wakeup_time, ideal_bedtime_start, ideal_bedtime_end, steps, stress, alcohol, caffeine, water)\n"
   ]
  },
  {
   "cell_type": "code",
   "execution_count": 17,
   "metadata": {},
   "outputs": [
    {
     "name": "stdout",
     "output_type": "stream",
     "text": [
      "1. Bedtime: 22:00:00 Sleep quality: 88.14\n",
      "2. Bedtime: 21:45:00 Sleep quality: 88.09\n",
      "3. Bedtime: 20:30:00 Sleep quality: 87.72\n",
      "4. Bedtime: 22:15:00 Sleep quality: 87.7\n",
      "5. Bedtime: 22:30:00 Sleep quality: 87.69\n",
      "6. Bedtime: 21:30:00 Sleep quality: 87.63\n",
      "7. Bedtime: 22:45:00 Sleep quality: 87.51\n",
      "8. Bedtime: 23:00:00 Sleep quality: 87.32\n",
      "9. Bedtime: 20:45:00 Sleep quality: 87.31\n",
      "10. Bedtime: 21:15:00 Sleep quality: 87.25\n",
      "11. Bedtime: 20:15:00 Sleep quality: 87.04\n",
      "12. Bedtime: 21:00:00 Sleep quality: 86.85\n",
      "13. Bedtime: 20:00:00 Sleep quality: 86.71\n"
     ]
    }
   ],
   "source": [
    "ideal_bedtime_dict = dict(sorted(ideal_bedtime_dict.items(), key=lambda x: x[1], reverse=True))\n",
    "\n",
    "rank = 1\n",
    "for k, v in ideal_bedtime_dict.items():\n",
    "    print(f'{rank}. Bedtime: {k} Sleep quality: {v}')\n",
    "    rank += 1"
   ]
  }
 ],
 "metadata": {
  "kernelspec": {
   "display_name": "Python 3",
   "language": "python",
   "name": "python3"
  },
  "language_info": {
   "codemirror_mode": {
    "name": "ipython",
    "version": 3
   },
   "file_extension": ".py",
   "mimetype": "text/x-python",
   "name": "python",
   "nbconvert_exporter": "python",
   "pygments_lexer": "ipython3",
   "version": "3.8.10"
  },
  "orig_nbformat": 4,
  "vscode": {
   "interpreter": {
    "hash": "b7e393ceace6487d2b0036562304c2461a404ff7a556385504bdd285c28a9e44"
   }
  }
 },
 "nbformat": 4,
 "nbformat_minor": 2
}
